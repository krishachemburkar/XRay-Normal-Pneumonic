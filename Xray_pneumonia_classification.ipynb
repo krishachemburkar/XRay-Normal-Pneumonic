{
  "nbformat": 4,
  "nbformat_minor": 0,
  "metadata": {
    "colab": {
      "provenance": [],
      "gpuType": "T4"
    },
    "kernelspec": {
      "name": "python3",
      "display_name": "Python 3"
    },
    "language_info": {
      "name": "python"
    },
    "accelerator": "GPU"
  },
  "cells": [
    {
      "cell_type": "code",
      "source": [
        "!pip install wandb"
      ],
      "metadata": {
        "colab": {
          "base_uri": "https://localhost:8080/"
        },
        "id": "mtFvQELrn9kb",
        "outputId": "45dc0c6f-7a5d-4dd0-e026-0e27b2f1eea1"
      },
      "execution_count": null,
      "outputs": [
        {
          "output_type": "stream",
          "name": "stdout",
          "text": [
            "Requirement already satisfied: wandb in /usr/local/lib/python3.10/dist-packages (0.19.1)\n",
            "Requirement already satisfied: click!=8.0.0,>=7.1 in /usr/local/lib/python3.10/dist-packages (from wandb) (8.1.7)\n",
            "Requirement already satisfied: docker-pycreds>=0.4.0 in /usr/local/lib/python3.10/dist-packages (from wandb) (0.4.0)\n",
            "Requirement already satisfied: gitpython!=3.1.29,>=1.0.0 in /usr/local/lib/python3.10/dist-packages (from wandb) (3.1.43)\n",
            "Requirement already satisfied: platformdirs in /usr/local/lib/python3.10/dist-packages (from wandb) (4.3.6)\n",
            "Requirement already satisfied: protobuf!=4.21.0,!=5.28.0,<6,>=3.19.0 in /usr/local/lib/python3.10/dist-packages (from wandb) (4.25.5)\n",
            "Requirement already satisfied: psutil>=5.0.0 in /usr/local/lib/python3.10/dist-packages (from wandb) (5.9.5)\n",
            "Requirement already satisfied: pydantic<3,>=2.6 in /usr/local/lib/python3.10/dist-packages (from wandb) (2.10.3)\n",
            "Requirement already satisfied: pyyaml in /usr/local/lib/python3.10/dist-packages (from wandb) (6.0.2)\n",
            "Requirement already satisfied: requests<3,>=2.0.0 in /usr/local/lib/python3.10/dist-packages (from wandb) (2.32.3)\n",
            "Requirement already satisfied: sentry-sdk>=2.0.0 in /usr/local/lib/python3.10/dist-packages (from wandb) (2.19.2)\n",
            "Requirement already satisfied: setproctitle in /usr/local/lib/python3.10/dist-packages (from wandb) (1.3.4)\n",
            "Requirement already satisfied: setuptools in /usr/local/lib/python3.10/dist-packages (from wandb) (75.1.0)\n",
            "Requirement already satisfied: typing-extensions<5,>=4.4 in /usr/local/lib/python3.10/dist-packages (from wandb) (4.12.2)\n",
            "Requirement already satisfied: six>=1.4.0 in /usr/local/lib/python3.10/dist-packages (from docker-pycreds>=0.4.0->wandb) (1.17.0)\n",
            "Requirement already satisfied: gitdb<5,>=4.0.1 in /usr/local/lib/python3.10/dist-packages (from gitpython!=3.1.29,>=1.0.0->wandb) (4.0.11)\n",
            "Requirement already satisfied: annotated-types>=0.6.0 in /usr/local/lib/python3.10/dist-packages (from pydantic<3,>=2.6->wandb) (0.7.0)\n",
            "Requirement already satisfied: pydantic-core==2.27.1 in /usr/local/lib/python3.10/dist-packages (from pydantic<3,>=2.6->wandb) (2.27.1)\n",
            "Requirement already satisfied: charset-normalizer<4,>=2 in /usr/local/lib/python3.10/dist-packages (from requests<3,>=2.0.0->wandb) (3.4.0)\n",
            "Requirement already satisfied: idna<4,>=2.5 in /usr/local/lib/python3.10/dist-packages (from requests<3,>=2.0.0->wandb) (3.10)\n",
            "Requirement already satisfied: urllib3<3,>=1.21.1 in /usr/local/lib/python3.10/dist-packages (from requests<3,>=2.0.0->wandb) (2.2.3)\n",
            "Requirement already satisfied: certifi>=2017.4.17 in /usr/local/lib/python3.10/dist-packages (from requests<3,>=2.0.0->wandb) (2024.12.14)\n",
            "Requirement already satisfied: smmap<6,>=3.0.1 in /usr/local/lib/python3.10/dist-packages (from gitdb<5,>=4.0.1->gitpython!=3.1.29,>=1.0.0->wandb) (5.0.1)\n"
          ]
        }
      ]
    },
    {
      "cell_type": "code",
      "source": [
        "!pip install torchmetrics"
      ],
      "metadata": {
        "colab": {
          "base_uri": "https://localhost:8080/"
        },
        "id": "KjbYdJAxwjze",
        "outputId": "58b0f07a-dfc8-4310-b387-3f0850189cec"
      },
      "execution_count": null,
      "outputs": [
        {
          "output_type": "stream",
          "name": "stdout",
          "text": [
            "Requirement already satisfied: torchmetrics in /usr/local/lib/python3.10/dist-packages (1.6.0)\n",
            "Requirement already satisfied: numpy>1.20.0 in /usr/local/lib/python3.10/dist-packages (from torchmetrics) (1.26.4)\n",
            "Requirement already satisfied: packaging>17.1 in /usr/local/lib/python3.10/dist-packages (from torchmetrics) (24.2)\n",
            "Requirement already satisfied: torch>=2.0.0 in /usr/local/lib/python3.10/dist-packages (from torchmetrics) (2.5.1+cu121)\n",
            "Requirement already satisfied: lightning-utilities>=0.8.0 in /usr/local/lib/python3.10/dist-packages (from torchmetrics) (0.11.9)\n",
            "Requirement already satisfied: setuptools in /usr/local/lib/python3.10/dist-packages (from lightning-utilities>=0.8.0->torchmetrics) (75.1.0)\n",
            "Requirement already satisfied: typing-extensions in /usr/local/lib/python3.10/dist-packages (from lightning-utilities>=0.8.0->torchmetrics) (4.12.2)\n",
            "Requirement already satisfied: filelock in /usr/local/lib/python3.10/dist-packages (from torch>=2.0.0->torchmetrics) (3.16.1)\n",
            "Requirement already satisfied: networkx in /usr/local/lib/python3.10/dist-packages (from torch>=2.0.0->torchmetrics) (3.4.2)\n",
            "Requirement already satisfied: jinja2 in /usr/local/lib/python3.10/dist-packages (from torch>=2.0.0->torchmetrics) (3.1.4)\n",
            "Requirement already satisfied: fsspec in /usr/local/lib/python3.10/dist-packages (from torch>=2.0.0->torchmetrics) (2024.10.0)\n",
            "Requirement already satisfied: sympy==1.13.1 in /usr/local/lib/python3.10/dist-packages (from torch>=2.0.0->torchmetrics) (1.13.1)\n",
            "Requirement already satisfied: mpmath<1.4,>=1.1.0 in /usr/local/lib/python3.10/dist-packages (from sympy==1.13.1->torch>=2.0.0->torchmetrics) (1.3.0)\n",
            "Requirement already satisfied: MarkupSafe>=2.0 in /usr/local/lib/python3.10/dist-packages (from jinja2->torch>=2.0.0->torchmetrics) (3.0.2)\n"
          ]
        }
      ]
    },
    {
      "cell_type": "code",
      "source": [
        "import numpy as np\n",
        "import torch\n",
        "import torch.nn as nn\n",
        "from torchvision import datasets, transforms\n",
        "from torch.utils.data import DataLoader\n",
        "import torch.optim as optim\n",
        "import matplotlib.pyplot as plt\n",
        "import os\n",
        "import wandb"
      ],
      "metadata": {
        "id": "jVl2xZeVADPP"
      },
      "execution_count": null,
      "outputs": []
    },
    {
      "cell_type": "code",
      "source": [
        "wandb.init(project=\"Pneumonia Classification\", entity=\"kreeeeesha\")\n"
      ],
      "metadata": {
        "colab": {
          "base_uri": "https://localhost:8080/",
          "height": 160
        },
        "id": "HuEne5_soDCV",
        "outputId": "88854d79-651e-4d28-a8e6-0308141f2b39"
      },
      "execution_count": null,
      "outputs": [
        {
          "output_type": "stream",
          "name": "stderr",
          "text": [
            "\u001b[34m\u001b[1mwandb\u001b[0m: Using wandb-core as the SDK backend.  Please refer to https://wandb.me/wandb-core for more information.\n",
            "\u001b[34m\u001b[1mwandb\u001b[0m: Currently logged in as: \u001b[33mkrishachemburkar\u001b[0m (\u001b[33mkreeeeesha\u001b[0m). Use \u001b[1m`wandb login --relogin`\u001b[0m to force relogin\n"
          ]
        },
        {
          "output_type": "display_data",
          "data": {
            "text/plain": [
              "<IPython.core.display.HTML object>"
            ],
            "text/html": [
              "Tracking run with wandb version 0.19.1"
            ]
          },
          "metadata": {}
        },
        {
          "output_type": "display_data",
          "data": {
            "text/plain": [
              "<IPython.core.display.HTML object>"
            ],
            "text/html": [
              "Run data is saved locally in <code>/content/wandb/run-20241220_095549-zunmy6p9</code>"
            ]
          },
          "metadata": {}
        },
        {
          "output_type": "display_data",
          "data": {
            "text/plain": [
              "<IPython.core.display.HTML object>"
            ],
            "text/html": [
              "Syncing run <strong><a href='https://wandb.ai/kreeeeesha/Pneumonia%20Classification/runs/zunmy6p9' target=\"_blank\">sunny-moon-33</a></strong> to <a href='https://wandb.ai/kreeeeesha/Pneumonia%20Classification' target=\"_blank\">Weights & Biases</a> (<a href='https://wandb.me/developer-guide' target=\"_blank\">docs</a>)<br>"
            ]
          },
          "metadata": {}
        },
        {
          "output_type": "display_data",
          "data": {
            "text/plain": [
              "<IPython.core.display.HTML object>"
            ],
            "text/html": [
              " View project at <a href='https://wandb.ai/kreeeeesha/Pneumonia%20Classification' target=\"_blank\">https://wandb.ai/kreeeeesha/Pneumonia%20Classification</a>"
            ]
          },
          "metadata": {}
        },
        {
          "output_type": "display_data",
          "data": {
            "text/plain": [
              "<IPython.core.display.HTML object>"
            ],
            "text/html": [
              " View run at <a href='https://wandb.ai/kreeeeesha/Pneumonia%20Classification/runs/zunmy6p9' target=\"_blank\">https://wandb.ai/kreeeeesha/Pneumonia%20Classification/runs/zunmy6p9</a>"
            ]
          },
          "metadata": {}
        },
        {
          "output_type": "execute_result",
          "data": {
            "text/html": [
              "<button onClick=\"this.nextSibling.style.display='block';this.style.display='none';\">Display W&B run</button><iframe src='https://wandb.ai/kreeeeesha/Pneumonia%20Classification/runs/zunmy6p9?jupyter=true' style='border:none;width:100%;height:420px;display:none;'></iframe>"
            ],
            "text/plain": [
              "<wandb.sdk.wandb_run.Run at 0x7c12e99dc040>"
            ]
          },
          "metadata": {},
          "execution_count": 4
        }
      ]
    },
    {
      "cell_type": "code",
      "source": [
        "import kagglehub\n",
        "\n",
        "# Download latest version\n",
        "path = kagglehub.dataset_download(\"paultimothymooney/chest-xray-pneumonia\")\n",
        "\n",
        "print(\"Path to dataset files:\", path)"
      ],
      "metadata": {
        "colab": {
          "base_uri": "https://localhost:8080/"
        },
        "id": "CA8KqCs590NT",
        "outputId": "00aef9b0-85d3-4abf-a81d-2b582d187d2e"
      },
      "execution_count": null,
      "outputs": [
        {
          "output_type": "stream",
          "name": "stdout",
          "text": [
            "Path to dataset files: /root/.cache/kagglehub/datasets/paultimothymooney/chest-xray-pneumonia/versions/2\n"
          ]
        }
      ]
    },
    {
      "cell_type": "code",
      "source": [
        "base_path = os.path.join(path, \"chest_xray\")\n",
        "train_dir = os.path.join(base_path, \"train\")\n",
        "val_dir = os.path.join(base_path, \"val\")\n",
        "test_dir = os.path.join(base_path, \"test\")"
      ],
      "metadata": {
        "id": "LFwWCcFBAbtU"
      },
      "execution_count": null,
      "outputs": []
    },
    {
      "cell_type": "code",
      "source": [
        "transform = transforms.Compose([\n",
        "    transforms.Resize((320, 320)),\n",
        "    transforms.ToTensor(),\n",
        "])"
      ],
      "metadata": {
        "id": "PEKMJheyAdx1"
      },
      "execution_count": null,
      "outputs": []
    },
    {
      "cell_type": "code",
      "source": [
        "train_dataset = datasets.ImageFolder(root=train_dir, transform = transform)\n",
        "test_dataset = datasets.ImageFolder(root=test_dir, transform = transform)\n",
        "val_dataset = datasets.ImageFolder(root=val_dir, transform = transform)"
      ],
      "metadata": {
        "id": "XusskwhnIwUp"
      },
      "execution_count": null,
      "outputs": []
    },
    {
      "cell_type": "code",
      "source": [
        "print(\"Class labels:\", train_dataset.class_to_idx)"
      ],
      "metadata": {
        "colab": {
          "base_uri": "https://localhost:8080/"
        },
        "id": "DBSyeuuUVgAl",
        "outputId": "1c0b51f4-6ce3-4a95-afe4-98da0f4c9905"
      },
      "execution_count": null,
      "outputs": [
        {
          "output_type": "stream",
          "name": "stdout",
          "text": [
            "Class labels: {'NORMAL': 0, 'PNEUMONIA': 1}\n"
          ]
        }
      ]
    },
    {
      "cell_type": "code",
      "source": [
        "from collections import Counter\n",
        "\n",
        "# Count occurrences of each class in the training dataset\n",
        "train_class_counts = Counter([label for _, label in train_dataset])\n",
        "test_class_counts = Counter([label for _, label in test_dataset])\n",
        "val_class_counts = Counter([label for _, label in val_dataset])\n",
        "\n",
        "# Print class distributions\n",
        "print(\"Training dataset class distribution:\", dict(train_class_counts))\n",
        "print(\"Test dataset class distribution:\", dict(test_class_counts))\n",
        "print(\"Validation dataset class distribution:\", dict(val_class_counts))\n"
      ],
      "metadata": {
        "colab": {
          "base_uri": "https://localhost:8080/"
        },
        "id": "Tu0AQnrlNmqn",
        "outputId": "86c52e9f-3af7-4c2a-e7a5-4047d09ddd23"
      },
      "execution_count": null,
      "outputs": [
        {
          "output_type": "stream",
          "name": "stdout",
          "text": [
            "Training dataset class distribution: {0: 1341, 1: 3875}\n",
            "Test dataset class distribution: {0: 234, 1: 390}\n",
            "Validation dataset class distribution: {0: 8, 1: 8}\n"
          ]
        }
      ]
    },
    {
      "cell_type": "code",
      "source": [
        "train_loader = DataLoader(train_dataset, batch_size=32, shuffle=True)\n",
        "test_loader = DataLoader(test_dataset, batch_size=32, shuffle=True)\n",
        "val_loader = DataLoader(val_dataset, batch_size=32, shuffle=True)"
      ],
      "metadata": {
        "id": "HC414YHbJWkB"
      },
      "execution_count": null,
      "outputs": []
    },
    {
      "cell_type": "code",
      "source": [
        "images, labels = next(iter(train_loader))\n"
      ],
      "metadata": {
        "id": "blZ6HShYJRpd"
      },
      "execution_count": null,
      "outputs": []
    },
    {
      "cell_type": "code",
      "source": [
        "images.shape, labels"
      ],
      "metadata": {
        "colab": {
          "base_uri": "https://localhost:8080/"
        },
        "id": "ZGhYqrzuJnFP",
        "outputId": "60e6a075-14d8-44ec-c561-9f9f27bc3029"
      },
      "execution_count": null,
      "outputs": [
        {
          "output_type": "execute_result",
          "data": {
            "text/plain": [
              "(torch.Size([32, 3, 320, 320]),\n",
              " tensor([1, 1, 0, 0, 1, 0, 0, 1, 0, 1, 1, 0, 1, 1, 1, 0, 0, 1, 0, 0, 1, 1, 1, 1,\n",
              "         1, 1, 0, 1, 1, 1, 1, 1]))"
            ]
          },
          "metadata": {},
          "execution_count": 17
        }
      ]
    },
    {
      "cell_type": "code",
      "source": [
        "images[0].shape"
      ],
      "metadata": {
        "colab": {
          "base_uri": "https://localhost:8080/"
        },
        "id": "giHKl5FoKvdh",
        "outputId": "991c3443-1c23-412d-fbaf-681ab2deea99"
      },
      "execution_count": null,
      "outputs": [
        {
          "output_type": "execute_result",
          "data": {
            "text/plain": [
              "torch.Size([3, 320, 320])"
            ]
          },
          "metadata": {},
          "execution_count": 18
        }
      ]
    },
    {
      "cell_type": "code",
      "source": [
        "img = images[0].numpy().transpose((1, 2, 0))\n",
        "plt.imshow(img)\n",
        "plt.axis(\"off\")\n",
        "plt.show()"
      ],
      "metadata": {
        "colab": {
          "base_uri": "https://localhost:8080/",
          "height": 406
        },
        "id": "Hz_oLSbXI_HB",
        "outputId": "1f139920-8fda-427c-ae62-79d3d82e27af"
      },
      "execution_count": null,
      "outputs": [
        {
          "output_type": "display_data",
          "data": {
            "text/plain": [
              "<Figure size 640x480 with 1 Axes>"
            ],
            "image/png": "[encoded data removed]"
          },
          "metadata": {}
        }
      ]
    },
    {
      "cell_type": "code",
      "source": [
        "device = torch.device(\"cuda\" if torch.cuda.is_available() else \"cpu\")\n"
      ],
      "metadata": {
        "id": "U52lSSycMvU4"
      },
      "execution_count": null,
      "outputs": []
    },
    {
      "cell_type": "code",
      "source": [
        "class Classification(nn.Module):\n",
        "    def __init__(self):\n",
        "        super().__init__()\n",
        "        self.feature_extractor = nn.Sequential(nn.Conv2d(3,64,(3,3),padding=1),\n",
        "                                       nn.ReLU(),\n",
        "                                       nn.MaxPool2d(2,stride = 2),\n",
        "\n",
        "                                       nn.Conv2d(64,128,(3,3),stride=1,padding=1),\n",
        "                                       nn.ReLU(),\n",
        "                                       nn.MaxPool2d(2,stride = 2),\n",
        "\n",
        "                                       nn.Conv2d(128,256,(3,3),stride=1,padding=1),\n",
        "                                       nn.ReLU(),\n",
        "                                       nn.MaxPool2d(2,stride = 2),\n",
        "                                       nn.Conv2d(256,512,(3,3),stride=1,padding=1),\n",
        "                                       nn.ReLU(),\n",
        "                                       nn.MaxPool2d(2,stride = 2),\n",
        "                                       nn.Conv2d(512,512,(3,3),stride=1,padding=1),\n",
        "                                       nn.ReLU(),\n",
        "                                       nn.MaxPool2d(2,stride = 2),\n",
        "                                       nn.Flatten())\n",
        "        self.classifier = nn.Sequential(nn.Linear(512*10*10,8192),\n",
        "                                        nn.ReLU(),\n",
        "                                        nn.Dropout(0.2),\n",
        "                                        nn.BatchNorm1d(8192),\n",
        "                                        nn.Linear(8192,4096),\n",
        "                                        nn.ReLU(),\n",
        "                                        nn.Dropout(0.2),\n",
        "                                        nn.BatchNorm1d(4096),\n",
        "                                        nn.Linear(4096,2048),\n",
        "                                        nn.ReLU(),\n",
        "                                        nn.BatchNorm1d(2048),\n",
        "                                        nn.Linear(2048,1024),\n",
        "                                        nn.ReLU(),\n",
        "                                        nn.BatchNorm1d(1024),\n",
        "                                        nn.Linear(1024,256),\n",
        "                                        nn.ReLU(),\n",
        "                                        nn.BatchNorm1d(256),\n",
        "                                        nn.Linear(256,64),\n",
        "                                        nn.ReLU(),\n",
        "                                        nn.BatchNorm1d(64),\n",
        "                                        nn.Linear(64,32),\n",
        "                                        nn.ReLU(),\n",
        "                                        nn.BatchNorm1d(32),\n",
        "                                        nn.Linear(32,1),\n",
        "                                        nn.Sigmoid())\n",
        "    def forward(self,x):\n",
        "        x1 = self.feature_extractor(x)\n",
        "        x = self.classifier(x1)\n",
        "        return x"
      ],
      "metadata": {
        "id": "NuFnGY4b_mOa"
      },
      "execution_count": null,
      "outputs": []
    },
    {
      "cell_type": "code",
      "source": [
        "model = Classification()"
      ],
      "metadata": {
        "id": "IL2CCog_mYCC"
      },
      "execution_count": null,
      "outputs": []
    },
    {
      "cell_type": "code",
      "source": [
        "model = model.to(device)"
      ],
      "metadata": {
        "id": "VIYXnb-imcWd"
      },
      "execution_count": null,
      "outputs": []
    },
    {
      "cell_type": "code",
      "source": [
        "criterion = nn.BCELoss().to(device)"
      ],
      "metadata": {
        "id": "OuygL2U2nYqo"
      },
      "execution_count": null,
      "outputs": []
    },
    {
      "cell_type": "code",
      "source": [
        "optimizer = optim.Adam(model.parameters(), lr=1e-4)"
      ],
      "metadata": {
        "id": "cxpKk3DBnKz_"
      },
      "execution_count": null,
      "outputs": []
    },
    {
      "cell_type": "code",
      "source": [
        "wandb.log({\"learning_rate\": optimizer.param_groups[0]['lr']\n",
        "})\n"
      ],
      "metadata": {
        "id": "Qm8XOp8XoTwS"
      },
      "execution_count": null,
      "outputs": []
    },
    {
      "cell_type": "code",
      "source": [
        "def calculate_accuracy(outputs, labels):\n",
        "    predicted = torch.round(torch.sigmoid(outputs))\n",
        "    correct = (predicted == labels.unsqueeze(1)).sum().item()\n",
        "    total = labels.size(0)\n",
        "    return correct, total"
      ],
      "metadata": {
        "id": "OH24Z29Toats"
      },
      "execution_count": null,
      "outputs": []
    },
    {
      "cell_type": "code",
      "source": [
        "from torchmetrics import Accuracy\n",
        "\n",
        "def accuracy_fn(y_true, y_pred):\n",
        "    acc = Accuracy(task=\"binary\").to(device)\n",
        "    acc = acc(y_pred, y_true.unsqueeze(1))\n",
        "    return acc"
      ],
      "metadata": {
        "id": "7qJjJ363wgtm"
      },
      "execution_count": null,
      "outputs": []
    },
    {
      "cell_type": "code",
      "source": [
        "num_epochs = 2\n",
        "\n",
        "for epoch in range(num_epochs):\n",
        "    model.train()\n",
        "    running_loss = 0.0\n",
        "\n",
        "\n",
        "    for i, (inputs, labels) in enumerate(train_loader):\n",
        "\n",
        "            inputs, labels = inputs.to(device), labels.to(device)\n",
        "            optimizer.zero_grad()\n",
        "            outputs = model(inputs)\n",
        "            loss = criterion(outputs, labels.float().unsqueeze(1))\n",
        "            loss.backward()\n",
        "            optimizer.step()\n",
        "            running_loss += loss.item()\n",
        "            train_acc = accuracy_fn(labels, outputs)\n",
        "            wandb.log({\"train_acc_batch\": train_acc})\n",
        "            wandb.log({\"train_loss_batch\": loss.item()})\n",
        "            print(f'Loss of batch {i+1}: {loss.item()}')\n",
        "\n",
        "    epoch_loss = running_loss / len(train_loader)\n",
        "\n",
        "    model.eval()\n",
        "    correct = 0\n",
        "    total = 0\n",
        "    val_loss = 0.0\n",
        "\n",
        "    with torch.no_grad():\n",
        "        for inputs, labels in test_loader:\n",
        "            inputs, labels = inputs.to(device), labels.to(device)\n",
        "            outputs = model(inputs)\n",
        "            loss = criterion(outputs, labels.float().unsqueeze(1))\n",
        "            val_loss += loss.item()\n",
        "\n",
        "            print(accuracy_fn(labels, outputs))\n",
        "            wandb.log({\"val_acc_batch\": accuracy_fn(labels, outputs)})\n",
        "\n",
        "    avg_val_loss = val_loss / len(test_loader)\n",
        "    print(outputs, labels)\n",
        "\n",
        "    print(f'EPOCH {epoch+1}: Training Loss: {epoch_loss:.4f}, Validation Loss: {avg_val_loss:.4f}')\n",
        "    wandb.log({\n",
        "        \"train_loss_epoch\": epoch_loss,\n",
        "        \"val_loss\": avg_val_loss,\n",
        "        \"epoch\": epoch + 1\n",
        "    })\n",
        "\n"
      ],
      "metadata": {
        "colab": {
          "base_uri": "https://localhost:8080/"
        },
        "id": "R4JtHsZUnSB3",
        "outputId": "64f0eac4-764d-4e81-8a32-2af331f33274"
      },
      "execution_count": null,
      "outputs": [
        {
          "output_type": "stream",
          "name": "stdout",
          "text": [
            "Loss of batch 1: 0.7194414138793945\n",
            "Loss of batch 2: 0.6348183155059814\n",
            "Loss of batch 3: 0.6824864149093628\n",
            "Loss of batch 4: 0.67290198802948\n",
            "Loss of batch 5: 0.6922541856765747\n",
            "Loss of batch 6: 0.6751231551170349\n",
            "Loss of batch 7: 0.6323358416557312\n",
            "Loss of batch 8: 0.6889661550521851\n",
            "Loss of batch 9: 0.6640486717224121\n",
            "Loss of batch 10: 0.7022879123687744\n",
            "Loss of batch 11: 0.6456665992736816\n",
            "Loss of batch 12: 0.602948009967804\n",
            "Loss of batch 13: 0.6972876787185669\n",
            "Loss of batch 14: 0.5696632266044617\n",
            "Loss of batch 15: 0.6538211107254028\n",
            "Loss of batch 16: 0.622411847114563\n",
            "Loss of batch 17: 0.5982685089111328\n",
            "Loss of batch 18: 0.61167311668396\n",
            "Loss of batch 19: 0.5528286695480347\n",
            "Loss of batch 20: 0.5725982189178467\n",
            "Loss of batch 21: 0.6131463646888733\n",
            "Loss of batch 22: 0.6544473171234131\n",
            "Loss of batch 23: 0.6103869080543518\n",
            "Loss of batch 24: 0.5621647238731384\n",
            "Loss of batch 25: 0.5462260842323303\n",
            "Loss of batch 26: 0.6316685676574707\n",
            "Loss of batch 27: 0.6154518127441406\n",
            "Loss of batch 28: 0.5818147659301758\n",
            "Loss of batch 29: 0.5223073959350586\n",
            "Loss of batch 30: 0.5994564890861511\n",
            "Loss of batch 31: 0.6302347779273987\n",
            "Loss of batch 32: 0.4569188058376312\n",
            "Loss of batch 33: 0.5002506971359253\n",
            "Loss of batch 34: 0.5088443756103516\n",
            "Loss of batch 35: 0.4629133343696594\n",
            "Loss of batch 36: 0.49080920219421387\n",
            "Loss of batch 37: 0.5071905851364136\n",
            "Loss of batch 38: 0.5177475214004517\n",
            "Loss of batch 39: 0.47978779673576355\n",
            "Loss of batch 40: 0.42833811044692993\n",
            "Loss of batch 41: 0.47283750772476196\n",
            "Loss of batch 42: 0.44131314754486084\n",
            "Loss of batch 43: 0.5291783213615417\n",
            "Loss of batch 44: 0.37311118841171265\n",
            "Loss of batch 45: 0.47601649165153503\n",
            "Loss of batch 46: 0.5372052192687988\n",
            "Loss of batch 47: 0.4161164462566376\n",
            "Loss of batch 48: 0.43105101585388184\n",
            "Loss of batch 49: 0.5529258251190186\n",
            "Loss of batch 50: 0.4261114001274109\n",
            "Loss of batch 51: 0.4619262218475342\n",
            "Loss of batch 52: 0.42313259840011597\n",
            "Loss of batch 53: 0.4581746459007263\n",
            "Loss of batch 54: 0.5169289112091064\n",
            "Loss of batch 55: 0.4108661115169525\n",
            "Loss of batch 56: 0.44022294878959656\n",
            "Loss of batch 57: 0.4154231548309326\n",
            "Loss of batch 58: 0.5905067920684814\n",
            "Loss of batch 59: 0.3548848628997803\n",
            "Loss of batch 60: 0.4174167811870575\n",
            "Loss of batch 61: 0.4373950958251953\n",
            "Loss of batch 62: 0.480352520942688\n",
            "Loss of batch 63: 0.459275484085083\n",
            "Loss of batch 64: 0.4310605227947235\n",
            "Loss of batch 65: 0.4389435052871704\n",
            "Loss of batch 66: 0.4000592827796936\n",
            "Loss of batch 67: 0.5139699578285217\n",
            "Loss of batch 68: 0.48510482907295227\n",
            "Loss of batch 69: 0.40598857402801514\n",
            "Loss of batch 70: 0.4125101864337921\n",
            "Loss of batch 71: 0.38125962018966675\n",
            "Loss of batch 72: 0.34703528881073\n",
            "Loss of batch 73: 0.40262117981910706\n",
            "Loss of batch 74: 0.42362502217292786\n",
            "Loss of batch 75: 0.43516087532043457\n",
            "Loss of batch 76: 0.33899804949760437\n",
            "Loss of batch 77: 0.3541625142097473\n",
            "Loss of batch 78: 0.4616403877735138\n",
            "Loss of batch 79: 0.3565089702606201\n",
            "Loss of batch 80: 0.3916693329811096\n",
            "Loss of batch 81: 0.4303550720214844\n",
            "Loss of batch 82: 0.35440921783447266\n",
            "Loss of batch 83: 0.40192341804504395\n",
            "Loss of batch 84: 0.3404565751552582\n",
            "Loss of batch 85: 0.33260902762413025\n",
            "Loss of batch 86: 0.3767176866531372\n",
            "Loss of batch 87: 0.335742324590683\n",
            "Loss of batch 88: 0.3994307518005371\n",
            "Loss of batch 89: 0.3007007837295532\n",
            "Loss of batch 90: 0.4875214993953705\n",
            "Loss of batch 91: 0.400667667388916\n",
            "Loss of batch 92: 0.6580098867416382\n",
            "Loss of batch 93: 0.4222762882709503\n",
            "Loss of batch 94: 0.3333224654197693\n",
            "Loss of batch 95: 0.31439632177352905\n",
            "Loss of batch 96: 0.3139086961746216\n",
            "Loss of batch 97: 0.3010599613189697\n",
            "Loss of batch 98: 0.32368725538253784\n",
            "Loss of batch 99: 0.3001301884651184\n",
            "Loss of batch 100: 0.36499571800231934\n",
            "Loss of batch 101: 0.40074142813682556\n",
            "Loss of batch 102: 0.29746103286743164\n",
            "Loss of batch 103: 0.3309895396232605\n",
            "Loss of batch 104: 0.32453662157058716\n",
            "Loss of batch 105: 0.3779991865158081\n",
            "Loss of batch 106: 0.38775795698165894\n",
            "Loss of batch 107: 0.4058723449707031\n",
            "Loss of batch 108: 0.29729023575782776\n",
            "Loss of batch 109: 0.372607946395874\n",
            "Loss of batch 110: 0.33365145325660706\n",
            "Loss of batch 111: 0.40220803022384644\n",
            "Loss of batch 112: 0.2394219934940338\n",
            "Loss of batch 113: 0.34276098012924194\n",
            "Loss of batch 114: 0.37906312942504883\n",
            "Loss of batch 115: 0.2919144630432129\n",
            "Loss of batch 116: 0.3603198528289795\n",
            "Loss of batch 117: 0.36707404255867004\n",
            "Loss of batch 118: 0.32019251585006714\n",
            "Loss of batch 119: 0.3064359724521637\n",
            "Loss of batch 120: 0.39568233489990234\n",
            "Loss of batch 121: 0.3245545029640198\n",
            "Loss of batch 122: 0.4212058186531067\n",
            "Loss of batch 123: 0.3535631597042084\n",
            "Loss of batch 124: 0.27112799882888794\n",
            "Loss of batch 125: 0.33384522795677185\n",
            "Loss of batch 126: 0.3300310969352722\n",
            "Loss of batch 127: 0.29797908663749695\n",
            "Loss of batch 128: 0.30269134044647217\n",
            "Loss of batch 129: 0.327328085899353\n",
            "Loss of batch 130: 0.2656572461128235\n",
            "Loss of batch 131: 0.35638540983200073\n",
            "Loss of batch 132: 0.27173054218292236\n",
            "Loss of batch 133: 0.27659356594085693\n",
            "Loss of batch 134: 0.2829788327217102\n",
            "Loss of batch 135: 0.340169757604599\n",
            "Loss of batch 136: 0.3558540344238281\n",
            "Loss of batch 137: 0.2748276889324188\n",
            "Loss of batch 138: 0.42739492654800415\n",
            "Loss of batch 139: 0.2564834952354431\n",
            "Loss of batch 140: 0.36880964040756226\n",
            "Loss of batch 141: 0.33064892888069153\n",
            "Loss of batch 142: 0.3107340335845947\n",
            "Loss of batch 143: 0.3490023910999298\n",
            "Loss of batch 144: 0.26126760244369507\n",
            "Loss of batch 145: 0.298281192779541\n",
            "Loss of batch 146: 0.3035864233970642\n",
            "Loss of batch 147: 0.27099716663360596\n",
            "Loss of batch 148: 0.3195067048072815\n",
            "Loss of batch 149: 0.23714321851730347\n",
            "Loss of batch 150: 0.30792075395584106\n",
            "Loss of batch 151: 0.35052490234375\n",
            "Loss of batch 152: 0.41893234848976135\n",
            "Loss of batch 153: 0.22439433634281158\n",
            "Loss of batch 154: 0.2357500046491623\n",
            "Loss of batch 155: 0.4292762875556946\n",
            "Loss of batch 156: 0.3149867355823517\n",
            "Loss of batch 157: 0.32528382539749146\n",
            "Loss of batch 158: 0.3132789134979248\n",
            "Loss of batch 159: 0.2816478908061981\n",
            "Loss of batch 160: 0.37770769000053406\n",
            "Loss of batch 161: 0.30573365092277527\n",
            "Loss of batch 162: 0.35644787549972534\n",
            "Loss of batch 163: 0.2520466446876526\n",
            "tensor(0.8438, device='cuda:0')\n",
            "tensor(0.6875, device='cuda:0')\n",
            "tensor(0.6875, device='cuda:0')\n",
            "tensor(0.7812, device='cuda:0')\n",
            "tensor(0.6562, device='cuda:0')\n",
            "tensor(0.7188, device='cuda:0')\n",
            "tensor(0.7500, device='cuda:0')\n",
            "tensor(0.7812, device='cuda:0')\n",
            "tensor(0.6875, device='cuda:0')\n",
            "tensor(0.7500, device='cuda:0')\n",
            "tensor(0.7188, device='cuda:0')\n",
            "tensor(0.8125, device='cuda:0')\n",
            "tensor(0.7812, device='cuda:0')\n",
            "tensor(0.6875, device='cuda:0')\n",
            "tensor(0.7188, device='cuda:0')\n",
            "tensor(0.7188, device='cuda:0')\n",
            "tensor(0.6875, device='cuda:0')\n",
            "tensor(0.7500, device='cuda:0')\n",
            "tensor(0.7812, device='cuda:0')\n",
            "tensor(0.6875, device='cuda:0')\n",
            "tensor([[0.7427],\n",
            "        [0.5761],\n",
            "        [0.7377],\n",
            "        [0.7487],\n",
            "        [0.7502],\n",
            "        [0.7248],\n",
            "        [0.5946],\n",
            "        [0.8586],\n",
            "        [0.8403],\n",
            "        [0.7810],\n",
            "        [0.6541],\n",
            "        [0.7791],\n",
            "        [0.7727],\n",
            "        [0.7240],\n",
            "        [0.8215],\n",
            "        [0.8036]], device='cuda:0') tensor([1, 0, 1, 0, 1, 0, 0, 1, 1, 1, 0, 1, 1, 1, 1, 1], device='cuda:0')\n",
            "EPOCH 1: Training Loss: 0.4255, Validation Loss: 0.5288\n",
            "Loss of batch 1: 0.3878140449523926\n",
            "Loss of batch 2: 0.33307528495788574\n",
            "Loss of batch 3: 0.2543911933898926\n",
            "Loss of batch 4: 0.35051581263542175\n",
            "Loss of batch 5: 0.32571712136268616\n",
            "Loss of batch 6: 0.1968970000743866\n",
            "Loss of batch 7: 0.3799842596054077\n",
            "Loss of batch 8: 0.26504579186439514\n",
            "Loss of batch 9: 0.2680893540382385\n",
            "Loss of batch 10: 0.2236858457326889\n",
            "Loss of batch 11: 0.31513580679893494\n",
            "Loss of batch 12: 0.2787548303604126\n",
            "Loss of batch 13: 0.36670437455177307\n",
            "Loss of batch 14: 0.27050867676734924\n",
            "Loss of batch 15: 0.22704236209392548\n",
            "Loss of batch 16: 0.3271968364715576\n",
            "Loss of batch 17: 0.2068910300731659\n",
            "Loss of batch 18: 0.23218411207199097\n",
            "Loss of batch 19: 0.2845587432384491\n",
            "Loss of batch 20: 0.29331809282302856\n",
            "Loss of batch 21: 0.37772226333618164\n",
            "Loss of batch 22: 0.3395167589187622\n",
            "Loss of batch 23: 0.4855649769306183\n",
            "Loss of batch 24: 0.21789956092834473\n",
            "Loss of batch 25: 0.23028293251991272\n",
            "Loss of batch 26: 0.24311688542366028\n",
            "Loss of batch 27: 0.42264026403427124\n",
            "Loss of batch 28: 0.24198421835899353\n",
            "Loss of batch 29: 0.27244678139686584\n",
            "Loss of batch 30: 0.24066591262817383\n",
            "Loss of batch 31: 0.2814735770225525\n",
            "Loss of batch 32: 0.33685702085494995\n",
            "Loss of batch 33: 0.2816157042980194\n",
            "Loss of batch 34: 0.27486997842788696\n",
            "Loss of batch 35: 0.1899167150259018\n",
            "Loss of batch 36: 0.3460237979888916\n",
            "Loss of batch 37: 0.25659602880477905\n",
            "Loss of batch 38: 0.36526572704315186\n",
            "Loss of batch 39: 0.31370019912719727\n",
            "Loss of batch 40: 0.30331823229789734\n",
            "Loss of batch 41: 0.2796976566314697\n",
            "Loss of batch 42: 0.23932376503944397\n",
            "Loss of batch 43: 0.21641534566879272\n",
            "Loss of batch 44: 0.3207138180732727\n",
            "Loss of batch 45: 0.2997530996799469\n",
            "Loss of batch 46: 0.27739694714546204\n",
            "Loss of batch 47: 0.5952560901641846\n",
            "Loss of batch 48: 0.4132535457611084\n",
            "Loss of batch 49: 0.21960437297821045\n",
            "Loss of batch 50: 0.29467839002609253\n",
            "Loss of batch 51: 0.21609055995941162\n",
            "Loss of batch 52: 0.24140536785125732\n",
            "Loss of batch 53: 0.296783983707428\n",
            "Loss of batch 54: 0.27292853593826294\n",
            "Loss of batch 55: 0.3596367835998535\n",
            "Loss of batch 56: 0.1853698045015335\n",
            "Loss of batch 57: 0.3347132205963135\n",
            "Loss of batch 58: 0.32399865984916687\n",
            "Loss of batch 59: 0.262376606464386\n",
            "Loss of batch 60: 0.1646115481853485\n",
            "Loss of batch 61: 0.36075544357299805\n",
            "Loss of batch 62: 0.28821176290512085\n",
            "Loss of batch 63: 0.22714336216449738\n",
            "Loss of batch 64: 0.16454774141311646\n",
            "Loss of batch 65: 0.20644232630729675\n",
            "Loss of batch 66: 0.22120894491672516\n",
            "Loss of batch 67: 0.2314641922712326\n",
            "Loss of batch 68: 0.35488754510879517\n",
            "Loss of batch 69: 0.283928245306015\n",
            "Loss of batch 70: 0.19983333349227905\n",
            "Loss of batch 71: 0.26733821630477905\n",
            "Loss of batch 72: 0.23600062727928162\n",
            "Loss of batch 73: 0.1404818296432495\n",
            "Loss of batch 74: 0.18989849090576172\n",
            "Loss of batch 75: 0.2010505646467209\n",
            "Loss of batch 76: 0.2578839063644409\n",
            "Loss of batch 77: 0.4385629892349243\n",
            "Loss of batch 78: 0.19806507229804993\n",
            "Loss of batch 79: 0.14484822750091553\n",
            "Loss of batch 80: 0.2689628601074219\n",
            "Loss of batch 81: 0.20466473698616028\n",
            "Loss of batch 82: 0.3731656074523926\n",
            "Loss of batch 83: 0.25386643409729004\n",
            "Loss of batch 84: 0.3717040419578552\n",
            "Loss of batch 85: 0.3883633017539978\n",
            "Loss of batch 86: 0.3544386029243469\n",
            "Loss of batch 87: 0.1985311210155487\n",
            "Loss of batch 88: 0.2853548526763916\n",
            "Loss of batch 89: 0.17632728815078735\n",
            "Loss of batch 90: 0.18556013703346252\n",
            "Loss of batch 91: 0.19679616391658783\n",
            "Loss of batch 92: 0.5778967142105103\n",
            "Loss of batch 93: 0.2639501690864563\n",
            "Loss of batch 94: 0.3254390358924866\n",
            "Loss of batch 95: 0.22331048548221588\n",
            "Loss of batch 96: 0.2629064917564392\n",
            "Loss of batch 97: 0.4746696949005127\n",
            "Loss of batch 98: 0.13712336122989655\n",
            "Loss of batch 99: 0.2870796322822571\n",
            "Loss of batch 100: 0.20403936505317688\n",
            "Loss of batch 101: 0.3970070779323578\n",
            "Loss of batch 102: 0.28461727499961853\n",
            "Loss of batch 103: 0.4026351273059845\n",
            "Loss of batch 104: 0.15697826445102692\n",
            "Loss of batch 105: 0.3216494917869568\n",
            "Loss of batch 106: 0.19441282749176025\n",
            "Loss of batch 107: 0.20332810282707214\n",
            "Loss of batch 108: 0.18314792215824127\n",
            "Loss of batch 109: 0.15341775119304657\n",
            "Loss of batch 110: 0.26314517855644226\n",
            "Loss of batch 111: 0.17446982860565186\n",
            "Loss of batch 112: 0.25792258977890015\n",
            "Loss of batch 113: 0.25109755992889404\n",
            "Loss of batch 114: 0.1747942566871643\n",
            "Loss of batch 115: 0.2552512288093567\n",
            "Loss of batch 116: 0.35389387607574463\n",
            "Loss of batch 117: 0.31972432136535645\n",
            "Loss of batch 118: 0.30629175901412964\n",
            "Loss of batch 119: 0.32331031560897827\n",
            "Loss of batch 120: 0.27997297048568726\n",
            "Loss of batch 121: 0.23194138705730438\n",
            "Loss of batch 122: 0.32254457473754883\n",
            "Loss of batch 123: 0.13104255497455597\n",
            "Loss of batch 124: 0.2805609703063965\n",
            "Loss of batch 125: 0.36403119564056396\n",
            "Loss of batch 126: 0.28289949893951416\n",
            "Loss of batch 127: 0.23392266035079956\n",
            "Loss of batch 128: 0.23808006942272186\n",
            "Loss of batch 129: 0.17800551652908325\n",
            "Loss of batch 130: 0.5256643295288086\n",
            "Loss of batch 131: 0.2379910796880722\n",
            "Loss of batch 132: 0.2960185408592224\n",
            "Loss of batch 133: 0.27135157585144043\n",
            "Loss of batch 134: 0.22399967908859253\n",
            "Loss of batch 135: 0.2386477291584015\n",
            "Loss of batch 136: 0.1865566223859787\n",
            "Loss of batch 137: 0.25895386934280396\n",
            "Loss of batch 138: 0.13832035660743713\n",
            "Loss of batch 139: 0.26797568798065186\n",
            "Loss of batch 140: 0.2110438048839569\n",
            "Loss of batch 141: 0.16864925622940063\n",
            "Loss of batch 142: 0.1167200356721878\n",
            "Loss of batch 143: 0.2709980010986328\n",
            "Loss of batch 144: 0.15729016065597534\n",
            "Loss of batch 145: 0.16337630152702332\n",
            "Loss of batch 146: 0.42274487018585205\n",
            "Loss of batch 147: 0.1838376522064209\n",
            "Loss of batch 148: 0.21113857626914978\n",
            "Loss of batch 149: 0.1980573534965515\n",
            "Loss of batch 150: 0.2519121766090393\n",
            "Loss of batch 151: 0.195206880569458\n",
            "Loss of batch 152: 0.20818376541137695\n",
            "Loss of batch 153: 0.18570590019226074\n",
            "Loss of batch 154: 0.16220635175704956\n",
            "Loss of batch 155: 0.19244447350502014\n",
            "Loss of batch 156: 0.22578319907188416\n",
            "Loss of batch 157: 0.2116628885269165\n",
            "Loss of batch 158: 0.2687770128250122\n",
            "Loss of batch 159: 0.25508078932762146\n",
            "Loss of batch 160: 0.2467517852783203\n",
            "Loss of batch 161: 0.1730082631111145\n",
            "Loss of batch 162: 0.3013647496700287\n",
            "Loss of batch 163: 0.2410833090543747\n",
            "tensor(0.9062, device='cuda:0')\n",
            "tensor(0.7188, device='cuda:0')\n",
            "tensor(0.9062, device='cuda:0')\n",
            "tensor(0.8438, device='cuda:0')\n",
            "tensor(0.8125, device='cuda:0')\n",
            "tensor(0.9375, device='cuda:0')\n",
            "tensor(0.9688, device='cuda:0')\n",
            "tensor(0.8750, device='cuda:0')\n",
            "tensor(0.8750, device='cuda:0')\n",
            "tensor(0.8750, device='cuda:0')\n",
            "tensor(1., device='cuda:0')\n",
            "tensor(0.8750, device='cuda:0')\n",
            "tensor(0.8438, device='cuda:0')\n",
            "tensor(0.9062, device='cuda:0')\n",
            "tensor(0.8125, device='cuda:0')\n",
            "tensor(0.9688, device='cuda:0')\n",
            "tensor(0.7812, device='cuda:0')\n",
            "tensor(0.8438, device='cuda:0')\n",
            "tensor(0.8125, device='cuda:0')\n",
            "tensor(0.9375, device='cuda:0')\n",
            "tensor([[0.0307],\n",
            "        [0.7765],\n",
            "        [0.1353],\n",
            "        [0.8075],\n",
            "        [0.0232],\n",
            "        [0.6555],\n",
            "        [0.8159],\n",
            "        [0.7865],\n",
            "        [0.7981],\n",
            "        [0.7574],\n",
            "        [0.7870],\n",
            "        [0.6668],\n",
            "        [0.7913],\n",
            "        [0.4368],\n",
            "        [0.6534],\n",
            "        [0.8396]], device='cuda:0') tensor([0, 1, 1, 1, 0, 1, 1, 1, 1, 1, 1, 1, 1, 0, 1, 1], device='cuda:0')\n",
            "EPOCH 2: Training Loss: 0.2677, Validation Loss: 0.3684\n"
          ]
        }
      ]
    },
    {
      "cell_type": "code",
      "source": [
        "from sklearn.metrics import confusion_matrix, ConfusionMatrixDisplay\n",
        "import matplotlib.pyplot as plt"
      ],
      "metadata": {
        "id": "IhmJwOKS-JZH"
      },
      "execution_count": null,
      "outputs": []
    },
    {
      "cell_type": "code",
      "source": [
        "model = model.to('cpu')"
      ],
      "metadata": {
        "id": "ZqLmMZ_jC482"
      },
      "execution_count": null,
      "outputs": []
    },
    {
      "cell_type": "code",
      "source": [
        "all_labels = []\n",
        "all_outputs = []\n",
        "\n",
        "with torch.no_grad():\n",
        "\n",
        "  for images, labels in val_loader:\n",
        "      images, labels = images, labels\n",
        "\n",
        "      outputs = model(images)\n",
        "      outputs = torch.round(outputs)\n",
        "\n",
        "      all_labels.extend(labels.detach().cpu().numpy())\n",
        "      all_outputs.extend(outputs.squeeze(1).detach().cpu().numpy())\n",
        "\n",
        "all_labels_val = np.array(all_labels)\n",
        "all_outputs_val = np.array(all_outputs)\n",
        "\n",
        "print(\"All labels:\", all_labels)\n",
        "print(\"All outputs:\", all_outputs)"
      ],
      "metadata": {
        "colab": {
          "base_uri": "https://localhost:8080/"
        },
        "id": "gd_3AZ_5BzQs",
        "outputId": "278f569c-bcf5-4f25-8ac3-a441d16b028a"
      },
      "execution_count": null,
      "outputs": [
        {
          "output_type": "stream",
          "name": "stdout",
          "text": [
            "All labels: [0, 1, 1, 0, 1, 0, 0, 1, 1, 0, 0, 0, 1, 1, 0, 1]\n",
            "All outputs: [0.0, 1.0, 1.0, 0.0, 0.0, 0.0, 0.0, 0.0, 1.0, 0.0, 0.0, 0.0, 1.0, 1.0, 0.0, 1.0]\n"
          ]
        }
      ]
    },
    {
      "cell_type": "code",
      "source": [
        "all_labels = []\n",
        "all_outputs = []\n",
        "\n",
        "with torch.no_grad():\n",
        "\n",
        "  for images, labels in test_loader:\n",
        "      images, labels = images, labels\n",
        "\n",
        "      outputs = model(images)\n",
        "      outputs = torch.round(outputs)\n",
        "\n",
        "      all_labels.extend(labels.detach().cpu().numpy())\n",
        "      all_outputs.extend(outputs.squeeze(1).detach().cpu().numpy())\n",
        "\n",
        "all_labels = np.array(all_labels)\n",
        "all_outputs = np.array(all_outputs)\n",
        "\n",
        "print(\"All labels:\", all_labels)\n",
        "print(\"All outputs:\", all_outputs)"
      ],
      "metadata": {
        "colab": {
          "base_uri": "https://localhost:8080/"
        },
        "id": "yZfcZauhDF-O",
        "outputId": "8fd5b4cc-9a51-4146-ceeb-2b19c870895d"
      },
      "execution_count": null,
      "outputs": [
        {
          "output_type": "stream",
          "name": "stdout",
          "text": [
            "All labels: [0 0 0 0 1 1 1 1 1 1 1 1 1 0 0 0 1 1 0 1 1 0 0 0 1 1 1 1 1 0 0 0 1 1 1 1 1\n",
            " 1 1 0 1 1 0 1 1 1 0 1 1 1 1 1 1 1 1 0 1 1 1 1 1 1 1 0 1 1 0 0 0 1 1 1 0 1\n",
            " 0 1 1 1 1 1 0 1 0 0 1 0 1 1 1 1 1 1 0 1 1 0 1 0 1 1 0 1 1 1 0 0 1 1 1 1 1\n",
            " 0 0 1 0 0 1 1 0 1 1 1 1 1 0 1 0 1 1 0 0 1 1 1 1 1 1 1 0 0 0 1 0 1 1 1 1 1\n",
            " 1 0 0 0 0 1 1 1 1 0 1 1 0 1 0 0 0 0 1 1 0 0 1 0 1 1 1 1 1 0 0 1 1 0 1 1 1\n",
            " 1 0 1 0 0 0 1 1 1 1 0 1 1 1 1 0 1 1 1 0 0 1 1 0 1 1 1 0 1 0 1 1 1 0 0 0 0\n",
            " 0 1 0 0 1 1 1 1 1 1 0 0 0 1 1 1 0 1 0 1 1 0 1 1 0 1 0 1 1 1 1 1 0 1 0 1 0\n",
            " 0 0 1 0 1 0 1 0 1 1 1 1 1 1 1 1 1 1 1 1 1 0 1 1 1 1 1 0 1 1 1 1 1 1 1 1 1\n",
            " 0 1 0 0 1 1 1 0 0 0 1 0 1 1 1 0 1 1 0 1 0 1 1 0 0 0 1 0 1 0 0 1 1 0 0 0 1\n",
            " 0 0 1 1 0 1 1 1 1 1 1 1 1 0 0 0 1 1 0 1 1 1 1 1 1 0 1 0 0 0 0 0 1 0 1 0 0\n",
            " 1 1 1 0 1 0 1 0 1 1 0 1 1 1 1 1 1 0 0 0 1 1 1 1 0 1 0 1 1 1 0 0 1 1 1 0 1\n",
            " 1 1 0 0 1 0 1 0 0 0 0 0 1 1 1 0 0 1 0 1 1 0 1 0 1 0 1 1 1 0 0 1 1 1 0 1 1\n",
            " 1 0 1 1 1 0 1 1 1 0 0 0 1 1 1 0 1 1 0 1 1 1 1 1 1 1 1 1 1 1 1 1 1 0 0 1 0\n",
            " 1 0 1 1 1 1 0 1 1 0 1 0 0 1 1 1 1 1 0 1 1 1 0 0 0 0 1 1 0 1 1 0 0 0 1 0 1\n",
            " 1 0 0 0 0 1 0 1 0 1 1 0 0 0 1 1 0 0 0 0 0 0 1 0 1 1 1 0 0 0 1 1 1 1 0 0 0\n",
            " 1 1 1 1 1 1 1 1 0 1 0 0 1 0 0 0 1 1 1 1 1 1 0 1 0 0 0 0 1 1 1 1 0 1 1 0 1\n",
            " 1 1 1 1 1 1 1 1 1 1 0 0 1 1 1 0 1 1 0 1 0 0 1 0 0 1 0 1 0 1 1 0]\n",
            "All outputs: [1. 0. 0. 0. 1. 1. 0. 1. 1. 1. 1. 1. 1. 0. 0. 0. 1. 1. 0. 1. 1. 0. 0. 0.\n",
            " 1. 1. 1. 1. 1. 0. 0. 0. 1. 1. 1. 1. 1. 1. 1. 0. 1. 1. 0. 1. 1. 1. 0. 0.\n",
            " 1. 1. 1. 1. 1. 1. 1. 1. 1. 1. 1. 1. 1. 1. 1. 0. 1. 1. 0. 1. 0. 1. 1. 0.\n",
            " 1. 1. 0. 1. 1. 1. 1. 1. 0. 1. 0. 1. 1. 0. 1. 1. 1. 1. 1. 0. 1. 1. 1. 0.\n",
            " 1. 0. 1. 1. 1. 1. 1. 1. 0. 0. 1. 1. 1. 1. 1. 1. 0. 1. 0. 1. 1. 1. 1. 1.\n",
            " 1. 1. 0. 1. 0. 1. 0. 1. 1. 0. 0. 1. 1. 1. 1. 1. 1. 1. 0. 0. 0. 1. 0. 1.\n",
            " 1. 1. 1. 1. 1. 0. 0. 0. 0. 1. 1. 1. 1. 0. 1. 1. 0. 1. 0. 0. 1. 0. 1. 1.\n",
            " 0. 1. 1. 0. 1. 1. 1. 1. 1. 0. 0. 1. 1. 0. 1. 1. 1. 1. 0. 1. 0. 0. 1. 1.\n",
            " 1. 1. 1. 1. 0. 1. 1. 1. 0. 1. 1. 1. 1. 1. 1. 1. 1. 1. 0. 1. 0. 1. 0. 1.\n",
            " 1. 1. 0. 0. 0. 0. 0. 1. 0. 1. 1. 1. 1. 1. 1. 1. 0. 0. 1. 1. 1. 1. 0. 1.\n",
            " 0. 1. 1. 0. 0. 1. 0. 1. 0. 1. 1. 1. 1. 1. 0. 1. 0. 1. 0. 0. 0. 1. 0. 1.\n",
            " 1. 1. 0. 1. 1. 1. 1. 1. 1. 1. 1. 1. 1. 1. 1. 1. 0. 1. 1. 1. 1. 1. 0. 1.\n",
            " 1. 0. 1. 1. 1. 1. 1. 1. 0. 1. 1. 0. 1. 1. 1. 0. 0. 0. 1. 0. 1. 1. 1. 1.\n",
            " 1. 1. 0. 1. 0. 1. 1. 1. 1. 0. 1. 0. 1. 1. 0. 1. 0. 1. 1. 1. 1. 0. 0. 1.\n",
            " 1. 0. 1. 1. 1. 1. 1. 1. 1. 0. 1. 0. 0. 1. 1. 1. 1. 1. 1. 1. 1. 0. 0. 1.\n",
            " 0. 0. 0. 0. 0. 0. 0. 0. 0. 1. 1. 1. 1. 0. 1. 1. 1. 0. 1. 1. 0. 1. 1. 1.\n",
            " 1. 1. 1. 0. 0. 1. 1. 1. 1. 1. 1. 1. 0. 1. 1. 1. 0. 0. 1. 1. 1. 0. 1. 1.\n",
            " 1. 0. 0. 0. 0. 1. 1. 0. 1. 1. 1. 1. 1. 0. 0. 0. 1. 0. 1. 1. 0. 1. 0. 1.\n",
            " 0. 1. 1. 1. 0. 0. 1. 1. 1. 1. 1. 1. 1. 0. 1. 1. 1. 0. 1. 1. 1. 1. 0. 0.\n",
            " 1. 1. 1. 0. 1. 1. 1. 1. 1. 1. 1. 1. 1. 1. 1. 1. 1. 1. 1. 1. 1. 0. 0. 1.\n",
            " 1. 1. 1. 1. 1. 1. 1. 0. 1. 1. 0. 1. 0. 0. 1. 1. 1. 1. 1. 0. 1. 1. 1. 0.\n",
            " 0. 1. 1. 1. 0. 1. 1. 1. 1. 1. 0. 1. 1. 1. 1. 0. 0. 0. 0. 1. 0. 1. 1. 1.\n",
            " 1. 0. 0. 0. 1. 1. 0. 1. 1. 0. 1. 0. 1. 1. 1. 1. 1. 0. 0. 0. 1. 1. 1. 1.\n",
            " 0. 1. 0. 1. 1. 1. 1. 1. 0. 1. 1. 0. 1. 1. 0. 1. 0. 0. 0. 1. 0. 1. 1. 1.\n",
            " 1. 1. 1. 0. 0. 0. 0. 1. 1. 1. 1. 0. 1. 1. 0. 1. 1. 1. 1. 1. 1. 1. 1. 1.\n",
            " 1. 1. 0. 0. 1. 1. 1. 0. 1. 1. 0. 1. 1. 1. 1. 0. 1. 1. 0. 1. 0. 1. 1. 0.]\n"
          ]
        }
      ]
    },
    {
      "cell_type": "code",
      "source": [
        "cm_val = confusion_matrix(all_labels_val, all_outputs_val)"
      ],
      "metadata": {
        "id": "BAghG3GJLQU6"
      },
      "execution_count": null,
      "outputs": []
    },
    {
      "cell_type": "code",
      "source": [
        "cm = confusion_matrix(all_labels, all_outputs)"
      ],
      "metadata": {
        "id": "oDoOYT_5-vb8"
      },
      "execution_count": null,
      "outputs": []
    },
    {
      "cell_type": "code",
      "source": [
        "cm"
      ],
      "metadata": {
        "colab": {
          "base_uri": "https://localhost:8080/"
        },
        "id": "-B5A3qx-_HzD",
        "outputId": "c1bc6de2-4b8b-452b-eab5-9069f1073951"
      },
      "execution_count": null,
      "outputs": [
        {
          "output_type": "execute_result",
          "data": {
            "text/plain": [
              "array([[174,  60],\n",
              "       [ 19, 371]])"
            ]
          },
          "metadata": {},
          "execution_count": 42
        }
      ]
    },
    {
      "cell_type": "code",
      "source": [
        "disp = ConfusionMatrixDisplay(confusion_matrix=cm, display_labels=val_dataset.classes)\n",
        "\n",
        "    # Plot confusion matrix\n",
        "print(f\"Confusion Matrix for Test Data\")\n",
        "disp.plot(cmap=plt.cm.Blues)\n",
        "plt.show()"
      ],
      "metadata": {
        "colab": {
          "base_uri": "https://localhost:8080/",
          "height": 466
        },
        "id": "CDaiXYLeAy5m",
        "outputId": "2f40a199-a831-4d60-c367-d64f32c2bde4"
      },
      "execution_count": null,
      "outputs": [
        {
          "output_type": "stream",
          "name": "stdout",
          "text": [
            "Confusion Matrix for Test Data\n"
          ]
        },
        {
          "output_type": "display_data",
          "data": {
            "text/plain": [
              "<Figure size 640x480 with 2 Axes>"
            ],
            "image/png": "[encoded data removed]"
          },
          "metadata": {}
        }
      ]
    },
    {
      "cell_type": "code",
      "source": [
        "disp = ConfusionMatrixDisplay(confusion_matrix=cm_val, display_labels=val_dataset.classes)\n",
        "\n",
        "    # Plot confusion matrix\n",
        "print(f\"Confusion Matrix for Val Data\")\n",
        "disp.plot(cmap=plt.cm.Blues)\n",
        "plt.show()"
      ],
      "metadata": {
        "colab": {
          "base_uri": "https://localhost:8080/",
          "height": 472
        },
        "id": "PPzzNCSzBhd_",
        "outputId": "7c108bd0-8623-4472-9d24-42bfa5fc8703"
      },
      "execution_count": null,
      "outputs": [
        {
          "output_type": "stream",
          "name": "stdout",
          "text": [
            "Confusion Matrix for Val Data\n"
          ]
        },
        {
          "output_type": "display_data",
          "data": {
            "text/plain": [
              "<Figure size 640x480 with 2 Axes>"
            ],
            "image/png": "[encoded data removed]"
          },
          "metadata": {}
        }
      ]
    },
    {
      "cell_type": "code",
      "source": [],
      "metadata": {
        "id": "zVwU3l-5Vemu"
      },
      "execution_count": null,
      "outputs": []
    }
  ]
}